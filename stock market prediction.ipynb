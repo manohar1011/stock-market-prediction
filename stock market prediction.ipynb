{
 "cells": [
  {
   "cell_type": "markdown",
   "id": "a3bcf244",
   "metadata": {},
   "source": [
    "# stock market prediction"
   ]
  },
  {
   "cell_type": "code",
   "execution_count": 5,
   "id": "28395ad0",
   "metadata": {},
   "outputs": [],
   "source": [
    "import numpy as np \n",
    "import pandas as pd \n",
    "import matplotlib.pyplot as plt \n",
    "from sklearn.preprocessing import MinMaxScaler\n"
   ]
  },
  {
   "cell_type": "code",
   "execution_count": 6,
   "id": "462f3a69",
   "metadata": {},
   "outputs": [],
   "source": [
    "import tensorflow as tf"
   ]
  },
  {
   "cell_type": "code",
   "execution_count": 7,
   "id": "fc5f4615",
   "metadata": {},
   "outputs": [],
   "source": [
    "from keras.models import Sequential\n",
    "from keras.layers import Dense,LSTM,Dropout"
   ]
  },
  {
   "cell_type": "code",
   "execution_count": 8,
   "id": "feed4799",
   "metadata": {},
   "outputs": [
    {
     "data": {
      "text/html": [
       "<div>\n",
       "<style scoped>\n",
       "    .dataframe tbody tr th:only-of-type {\n",
       "        vertical-align: middle;\n",
       "    }\n",
       "\n",
       "    .dataframe tbody tr th {\n",
       "        vertical-align: top;\n",
       "    }\n",
       "\n",
       "    .dataframe thead th {\n",
       "        text-align: right;\n",
       "    }\n",
       "</style>\n",
       "<table border=\"1\" class=\"dataframe\">\n",
       "  <thead>\n",
       "    <tr style=\"text-align: right;\">\n",
       "      <th></th>\n",
       "      <th>Date</th>\n",
       "      <th>Open</th>\n",
       "      <th>High</th>\n",
       "      <th>Low</th>\n",
       "      <th>Close</th>\n",
       "      <th>Adj Close</th>\n",
       "      <th>Volume</th>\n",
       "    </tr>\n",
       "  </thead>\n",
       "  <tbody>\n",
       "    <tr>\n",
       "      <th>0</th>\n",
       "      <td>2018-01-02</td>\n",
       "      <td>1048.339966</td>\n",
       "      <td>1066.939941</td>\n",
       "      <td>1045.229980</td>\n",
       "      <td>1065.000000</td>\n",
       "      <td>1065.000000</td>\n",
       "      <td>1237600</td>\n",
       "    </tr>\n",
       "    <tr>\n",
       "      <th>1</th>\n",
       "      <td>2018-01-03</td>\n",
       "      <td>1064.310059</td>\n",
       "      <td>1086.290039</td>\n",
       "      <td>1063.209961</td>\n",
       "      <td>1082.479980</td>\n",
       "      <td>1082.479980</td>\n",
       "      <td>1430200</td>\n",
       "    </tr>\n",
       "    <tr>\n",
       "      <th>2</th>\n",
       "      <td>2018-01-04</td>\n",
       "      <td>1088.000000</td>\n",
       "      <td>1093.569946</td>\n",
       "      <td>1084.001953</td>\n",
       "      <td>1086.400024</td>\n",
       "      <td>1086.400024</td>\n",
       "      <td>1004600</td>\n",
       "    </tr>\n",
       "    <tr>\n",
       "      <th>3</th>\n",
       "      <td>2018-01-05</td>\n",
       "      <td>1094.000000</td>\n",
       "      <td>1104.250000</td>\n",
       "      <td>1092.000000</td>\n",
       "      <td>1102.229980</td>\n",
       "      <td>1102.229980</td>\n",
       "      <td>1279100</td>\n",
       "    </tr>\n",
       "    <tr>\n",
       "      <th>4</th>\n",
       "      <td>2018-01-08</td>\n",
       "      <td>1102.229980</td>\n",
       "      <td>1111.270020</td>\n",
       "      <td>1101.619995</td>\n",
       "      <td>1106.939941</td>\n",
       "      <td>1106.939941</td>\n",
       "      <td>1047600</td>\n",
       "    </tr>\n",
       "  </tbody>\n",
       "</table>\n",
       "</div>"
      ],
      "text/plain": [
       "         Date         Open         High          Low        Close  \\\n",
       "0  2018-01-02  1048.339966  1066.939941  1045.229980  1065.000000   \n",
       "1  2018-01-03  1064.310059  1086.290039  1063.209961  1082.479980   \n",
       "2  2018-01-04  1088.000000  1093.569946  1084.001953  1086.400024   \n",
       "3  2018-01-05  1094.000000  1104.250000  1092.000000  1102.229980   \n",
       "4  2018-01-08  1102.229980  1111.270020  1101.619995  1106.939941   \n",
       "\n",
       "     Adj Close   Volume  \n",
       "0  1065.000000  1237600  \n",
       "1  1082.479980  1430200  \n",
       "2  1086.400024  1004600  \n",
       "3  1102.229980  1279100  \n",
       "4  1106.939941  1047600  "
      ]
     },
     "execution_count": 8,
     "metadata": {},
     "output_type": "execute_result"
    }
   ],
   "source": [
    "data = pd.read_csv(\"C:/Users/venka/Downloads/testset.csv\")\n",
    "data.head()"
   ]
  },
  {
   "cell_type": "code",
   "execution_count": 9,
   "id": "82464fe9",
   "metadata": {},
   "outputs": [
    {
     "name": "stdout",
     "output_type": "stream",
     "text": [
      "<class 'pandas.core.frame.DataFrame'>\n",
      "RangeIndex: 125 entries, 0 to 124\n",
      "Data columns (total 7 columns):\n",
      " #   Column     Non-Null Count  Dtype  \n",
      "---  ------     --------------  -----  \n",
      " 0   Date       125 non-null    object \n",
      " 1   Open       125 non-null    float64\n",
      " 2   High       125 non-null    float64\n",
      " 3   Low        125 non-null    float64\n",
      " 4   Close      125 non-null    float64\n",
      " 5   Adj Close  125 non-null    float64\n",
      " 6   Volume     125 non-null    int64  \n",
      "dtypes: float64(5), int64(1), object(1)\n",
      "memory usage: 7.0+ KB\n"
     ]
    }
   ],
   "source": [
    "data.info()"
   ]
  },
  {
   "cell_type": "code",
   "execution_count": 10,
   "id": "1d653e25",
   "metadata": {},
   "outputs": [],
   "source": [
    "data[\"Close\"]=pd.to_numeric(data.Close,errors='coerce')\n",
    "data = data.dropna()\n",
    "trainData = data.iloc[:,4:5].values"
   ]
  },
  {
   "cell_type": "code",
   "execution_count": 11,
   "id": "c8b61f2f",
   "metadata": {},
   "outputs": [
    {
     "name": "stdout",
     "output_type": "stream",
     "text": [
      "<class 'pandas.core.frame.DataFrame'>\n",
      "RangeIndex: 125 entries, 0 to 124\n",
      "Data columns (total 7 columns):\n",
      " #   Column     Non-Null Count  Dtype  \n",
      "---  ------     --------------  -----  \n",
      " 0   Date       125 non-null    object \n",
      " 1   Open       125 non-null    float64\n",
      " 2   High       125 non-null    float64\n",
      " 3   Low        125 non-null    float64\n",
      " 4   Close      125 non-null    float64\n",
      " 5   Adj Close  125 non-null    float64\n",
      " 6   Volume     125 non-null    int64  \n",
      "dtypes: float64(5), int64(1), object(1)\n",
      "memory usage: 7.0+ KB\n"
     ]
    }
   ],
   "source": [
    "data.info()"
   ]
  },
  {
   "cell_type": "code",
   "execution_count": 12,
   "id": "50287df7",
   "metadata": {},
   "outputs": [
    {
     "data": {
      "text/plain": [
       "(125, 1)"
      ]
     },
     "execution_count": 12,
     "metadata": {},
     "output_type": "execute_result"
    }
   ],
   "source": [
    "sc = MinMaxScaler(feature_range=(0,1))\n",
    "trainData = sc.fit_transform(trainData)\n",
    "trainData.shape"
   ]
  },
  {
   "cell_type": "code",
   "execution_count": 14,
   "id": "f61369b8",
   "metadata": {},
   "outputs": [],
   "source": [
    "X_train = []\n",
    "y_train = []\n",
    "\n",
    "for i in range (60,125): #60 : timestep // 1149 : length of the data\n",
    "    X_train.append(trainData[i-60:i,0]) \n",
    "    y_train.append(trainData[i,0])\n",
    "\n",
    "X_train,y_train = np.array(X_train),np.array(y_train)"
   ]
  },
  {
   "cell_type": "code",
   "execution_count": 16,
   "id": "8bd0b161",
   "metadata": {},
   "outputs": [
    {
     "data": {
      "text/plain": [
       "(65, 60, 1)"
      ]
     },
     "execution_count": 16,
     "metadata": {},
     "output_type": "execute_result"
    }
   ],
   "source": [
    "X_train = np.reshape(X_train,(X_train.shape[0],X_train.shape[1],1)) #adding the batch_size axis\n",
    "X_train.shape"
   ]
  },
  {
   "cell_type": "code",
   "execution_count": 17,
   "id": "b871b1c3",
   "metadata": {},
   "outputs": [],
   "source": [
    "model = Sequential()\n",
    "\n",
    "model.add(LSTM(units=100, return_sequences = True, input_shape =(X_train.shape[1],1)))\n",
    "model.add(Dropout(0.2))\n",
    "\n",
    "model.add(LSTM(units=100, return_sequences = True))\n",
    "model.add(Dropout(0.2))\n",
    "\n",
    "model.add(LSTM(units=100, return_sequences = True))\n",
    "model.add(Dropout(0.2))\n",
    "\n",
    "model.add(LSTM(units=100, return_sequences = False))\n",
    "model.add(Dropout(0.2))\n",
    "\n",
    "model.add(Dense(units =1))\n",
    "model.compile(optimizer='adam',loss=\"mean_squared_error\")"
   ]
  },
  {
   "cell_type": "code",
   "execution_count": 18,
   "id": "c6cd4fbe",
   "metadata": {},
   "outputs": [
    {
     "name": "stdout",
     "output_type": "stream",
     "text": [
      "Epoch 1/20\n",
      "3/3 - 18s - loss: 0.2527 - 18s/epoch - 6s/step\n",
      "Epoch 2/20\n",
      "3/3 - 1s - loss: 0.1258 - 826ms/epoch - 275ms/step\n",
      "Epoch 3/20\n",
      "3/3 - 1s - loss: 0.0819 - 560ms/epoch - 187ms/step\n",
      "Epoch 4/20\n",
      "3/3 - 1s - loss: 0.0646 - 770ms/epoch - 257ms/step\n",
      "Epoch 5/20\n",
      "3/3 - 1s - loss: 0.0820 - 582ms/epoch - 194ms/step\n",
      "Epoch 6/20\n",
      "3/3 - 1s - loss: 0.0797 - 580ms/epoch - 193ms/step\n",
      "Epoch 7/20\n",
      "3/3 - 1s - loss: 0.0596 - 584ms/epoch - 195ms/step\n",
      "Epoch 8/20\n",
      "3/3 - 1s - loss: 0.0676 - 563ms/epoch - 188ms/step\n",
      "Epoch 9/20\n",
      "3/3 - 1s - loss: 0.0602 - 597ms/epoch - 199ms/step\n",
      "Epoch 10/20\n",
      "3/3 - 1s - loss: 0.0578 - 586ms/epoch - 195ms/step\n",
      "Epoch 11/20\n",
      "3/3 - 1s - loss: 0.0551 - 551ms/epoch - 184ms/step\n",
      "Epoch 12/20\n",
      "3/3 - 1s - loss: 0.0556 - 571ms/epoch - 190ms/step\n",
      "Epoch 13/20\n",
      "3/3 - 1s - loss: 0.0755 - 566ms/epoch - 189ms/step\n",
      "Epoch 14/20\n",
      "3/3 - 1s - loss: 0.0514 - 580ms/epoch - 193ms/step\n",
      "Epoch 15/20\n",
      "3/3 - 1s - loss: 0.0644 - 564ms/epoch - 188ms/step\n",
      "Epoch 16/20\n",
      "3/3 - 1s - loss: 0.0577 - 580ms/epoch - 193ms/step\n",
      "Epoch 17/20\n",
      "3/3 - 1s - loss: 0.0647 - 585ms/epoch - 195ms/step\n",
      "Epoch 18/20\n",
      "3/3 - 1s - loss: 0.0576 - 562ms/epoch - 187ms/step\n",
      "Epoch 19/20\n",
      "3/3 - 1s - loss: 0.0426 - 584ms/epoch - 195ms/step\n",
      "Epoch 20/20\n",
      "3/3 - 1s - loss: 0.0451 - 583ms/epoch - 194ms/step\n"
     ]
    }
   ],
   "source": [
    "hist = model.fit(X_train, y_train, epochs = 20, batch_size = 32, verbose=2)\n"
   ]
  },
  {
   "cell_type": "code",
   "execution_count": 19,
   "id": "0788a19e",
   "metadata": {},
   "outputs": [
    {
     "data": {
      "image/png": "[encoded data removed]",
      "text/plain": [
       "<Figure size 640x480 with 1 Axes>"
      ]
     },
     "metadata": {},
     "output_type": "display_data"
    }
   ],
   "source": [
    "plt.plot(hist.history['loss'])\n",
    "plt.title('Training model loss')\n",
    "plt.ylabel('loss')\n",
    "plt.xlabel('epoch')\n",
    "plt.legend(['train'], loc='upper left')\n",
    "plt.show()"
   ]
  },
  {
   "cell_type": "code",
   "execution_count": 21,
   "id": "b0e78eab",
   "metadata": {},
   "outputs": [
    {
     "data": {
      "text/plain": [
       "(65, 60, 1)"
      ]
     },
     "execution_count": 21,
     "metadata": {},
     "output_type": "execute_result"
    }
   ],
   "source": [
    "testData = pd.read_csv(\"C:/Users/venka/Downloads/testset.csv\")\n",
    "testData[\"Close\"]=pd.to_numeric(testData.Close,errors='coerce')\n",
    "testData = testData.dropna()\n",
    "testData = testData.iloc[:,4:5]\n",
    "y_test = testData.iloc[60:,0:].values \n",
    "#input array for the model\n",
    "inputClosing = testData.iloc[:,0:].values \n",
    "inputClosing_scaled = sc.transform(inputClosing)\n",
    "inputClosing_scaled.shape\n",
    "X_test = []\n",
    "length = len(testData)\n",
    "timestep = 60\n",
    "for i in range(timestep,length):  \n",
    "    X_test.append(inputClosing_scaled[i-timestep:i,0])\n",
    "X_test = np.array(X_test)\n",
    "X_test = np.reshape(X_test,(X_test.shape[0],X_test.shape[1],1))\n",
    "X_test.shape"
   ]
  },
  {
   "cell_type": "code",
   "execution_count": 22,
   "id": "5221a8c5",
   "metadata": {},
   "outputs": [
    {
     "name": "stdout",
     "output_type": "stream",
     "text": [
      "3/3 [==============================] - 4s 52ms/step\n"
     ]
    },
    {
     "data": {
      "text/plain": [
       "array([[0.69627666],\n",
       "       [0.63626873],\n",
       "       [0.5716257 ],\n",
       "       [0.5056378 ],\n",
       "       [0.44174552],\n",
       "       [0.38299334],\n",
       "       [0.33097076],\n",
       "       [0.28665018],\n",
       "       [0.25097114],\n",
       "       [0.2240556 ],\n",
       "       [0.20585842],\n",
       "       [0.19587831],\n",
       "       [0.1935281 ],\n",
       "       [0.19920744],\n",
       "       [0.21314475],\n",
       "       [0.2355427 ],\n",
       "       [0.26548862],\n",
       "       [0.30109856],\n",
       "       [0.33830142],\n",
       "       [0.3729273 ],\n",
       "       [0.40238345],\n",
       "       [0.42501312],\n",
       "       [0.43970105],\n",
       "       [0.44687754],\n",
       "       [0.44731656],\n",
       "       [0.44208673],\n",
       "       [0.43329772],\n",
       "       [0.4233858 ],\n",
       "       [0.41441435],\n",
       "       [0.40885147],\n",
       "       [0.40911216],\n",
       "       [0.4167465 ],\n",
       "       [0.43225396],\n",
       "       [0.45428836],\n",
       "       [0.48073536],\n",
       "       [0.5091342 ],\n",
       "       [0.5367019 ],\n",
       "       [0.5616032 ],\n",
       "       [0.5823542 ],\n",
       "       [0.59845805],\n",
       "       [0.60999775],\n",
       "       [0.6172698 ],\n",
       "       [0.6201545 ],\n",
       "       [0.61894643],\n",
       "       [0.61488855],\n",
       "       [0.61075246],\n",
       "       [0.609941  ],\n",
       "       [0.6150693 ],\n",
       "       [0.6273442 ],\n",
       "       [0.6461126 ],\n",
       "       [0.6695678 ],\n",
       "       [0.695845  ],\n",
       "       [0.72350454],\n",
       "       [0.75108624],\n",
       "       [0.7780237 ],\n",
       "       [0.8039626 ],\n",
       "       [0.82946897],\n",
       "       [0.8547647 ],\n",
       "       [0.8797675 ],\n",
       "       [0.9035282 ],\n",
       "       [0.9248285 ],\n",
       "       [0.94124925],\n",
       "       [0.9505745 ],\n",
       "       [0.9509455 ],\n",
       "       [0.94212955]], dtype=float32)"
      ]
     },
     "execution_count": 22,
     "metadata": {},
     "output_type": "execute_result"
    }
   ],
   "source": [
    "y_pred = model.predict(X_test)\n",
    "y_pred"
   ]
  },
  {
   "cell_type": "code",
   "execution_count": 23,
   "id": "d295dc94",
   "metadata": {},
   "outputs": [],
   "source": [
    "predicted_price = sc.inverse_transform(y_pred)\n"
   ]
  },
  {
   "cell_type": "code",
   "execution_count": 24,
   "id": "c46dbd3f",
   "metadata": {},
   "outputs": [
    {
     "data": {
      "image/png": "[encoded data removed]",
      "text/plain": [
       "<Figure size 640x480 with 1 Axes>"
      ]
     },
     "metadata": {},
     "output_type": "display_data"
    }
   ],
   "source": [
    "plt.plot(y_test, color = 'red', label = 'Actual Stock Price')\n",
    "plt.plot(predicted_price, color = 'green', label = 'Predicted Stock Price')\n",
    "plt.title('Google stock price prediction')\n",
    "plt.xlabel('Time')\n",
    "plt.ylabel('Stock Price')\n",
    "plt.legend()\n",
    "plt.show()"
   ]
  },
  {
   "cell_type": "code",
   "execution_count": null,
   "id": "15e29799",
   "metadata": {},
   "outputs": [],
   "source": []
  }
 ],
 "metadata": {
  "kernelspec": {
   "display_name": "Python 3 (ipykernel)",
   "language": "python",
   "name": "python3"
  },
  "language_info": {
   "codemirror_mode": {
    "name": "ipython",
    "version": 3
   },
   "file_extension": ".py",
   "mimetype": "text/x-python",
   "name": "python",
   "nbconvert_exporter": "python",
   "pygments_lexer": "ipython3",
   "version": "3.10.9"
  }
 },
 "nbformat": 4,
 "nbformat_minor": 5
}
